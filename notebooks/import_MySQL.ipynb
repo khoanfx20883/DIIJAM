{
 "cells": [
  {
   "cell_type": "code",
   "execution_count": null,
   "id": "3fe6d3f4",
   "metadata": {},
   "outputs": [],
   "source": [
    "import pandas as pd\n",
    "\n",
    "# Đọc dữ liệu từ file Parquet\n",
    "track_credit_df = pd.read_parquet(\"data/track_credit_df.par\")\n",
    "tps_df = pd.read_parquet(\"data/tps.par\")\n",
    "\n",
    "# Hiển thị thông tin cơ bản của dataframe\n",
    "track_credit_df\n",
    "tps_df"
   ]
  },
  {
   "cell_type": "code",
   "execution_count": null,
   "id": "2265f784",
   "metadata": {},
   "outputs": [],
   "source": [
    "from sqlalchemy import Column, Integer, String, Float, DateTime, create_engine, ForeignKey\n",
    "from sqlalchemy.ext.declarative import declarative_base\n",
    "from sqlalchemy.orm import relationship\n",
    "from sqlalchemy.orm import sessionmaker\n",
    "\n",
    "Base = declarative_base()\n",
    "\n",
    "# Bảng track_credit\n",
    "class TrackCredit(Base):\n",
    "    __tablename__ = 'track_credit'\n",
    "\n",
    "    id = Column(Integer, primary_key=True, autoincrement=True)\n",
    "    track_id = Column(Integer, nullable=False)\n",
    "    artist_id = Column(Integer, nullable=False)\n",
    "    role_id = Column(Integer, nullable=False)\n",
    "    created_at = Column(DateTime, nullable=False)\n",
    "    updated_at = Column(DateTime, nullable=False)\n",
    "    position = Column(Float, nullable=False)\n",
    "\n",
    "    # Quan hệ với bảng TPS\n",
    "    tps = relationship(\"TPS\", back_populates=\"track_credit\")\n",
    "\n",
    "# Bảng tps\n",
    "class TPS(Base):\n",
    "    __tablename__ = 'tps'\n",
    "\n",
    "    track_id = Column(Integer, ForeignKey('track_credit.track_id'), primary_key=True, nullable=False)\n",
    "    user_id = Column(Integer, nullable=False)\n",
    "    date = Column(DateTime, nullable=False)\n",
    "    listen_count = Column(Integer, nullable=False)\n",
    "    created_at = Column(DateTime, nullable=False)\n",
    "    updated_at = Column(DateTime, nullable=False)\n",
    "\n",
    "    # Quan hệ ngược lại với bảng TrackCredit\n",
    "    track_credit = relationship(\"TrackCredit\", back_populates=\"tps\", lazy=\"dynamic\")\n",
    "\n",
    "# Tạo tất cả bảng dựa trên định nghĩa ORM\n",
    "Base.metadata.create_all(engine)\n",
    "\n",
    "# Tạo session để làm việc\n",
    "Session = sessionmaker(bind=engine)\n",
    "session = Session()\n",
    "\n",
    "# JOIN hai bảng track_credit và tps theo track_id \n",
    "# Chọn các cột track_id, artist_id từ bảng track_credit \n",
    "# và các cột user_id, listen_count từ bảng tps\n",
    "# limit 100 kết quả\n",
    "join_query = session.query(TrackCredit.track_id, TrackCredit.artist_id, TPS.user_id, TPS.listen_count).join(TPS, TrackCredit.track_id == TPS.track_id).limit(100)\n",
    "\n",
    "for row in join_query:\n",
    "    print(f\"Track ID: {row.track_id}, Artist ID: {row.artist_id}, User ID: {row.user_id}, Listen Count: {row.listen_count}\")\n",
    "\n",
    "# Đóng session\n",
    "session.close()\n"
   ]
  },
  {
   "cell_type": "code",
   "execution_count": null,
   "id": "91710711",
   "metadata": {},
   "outputs": [],
   "source": [
    "from sqlalchemy.sql import func, select, text\n",
    "\n",
    "# Thống kê: Đếm số lượng bản ghi\n",
    "count_query = session.query(func.count()).select_from(TrackCredit).scalar()\n",
    "print(f\"Tổng số bản ghi: {count_query}\")\n",
    "\n",
    "# Tìm giá trị lớn nhất và nhỏ nhất cho một cột (ví dụ cột 'age')\n",
    "max_query = session.query(func.max(TPS.listen_count)).scalar()\n",
    "min_query = session.query(func.min(TPS.listen_count)).scalar()\n",
    "print(f\"Giá trị lớn nhất: {max_query}, Giá trị nhỏ nhất: {min_query}\")"
   ]
  }
 ],
 "metadata": {
  "kernelspec": {
   "display_name": "Python 3 (ipykernel)",
   "language": "python",
   "name": "python3"
  },
  "language_info": {
   "codemirror_mode": {
    "name": "ipython",
    "version": 3
   },
   "file_extension": ".py",
   "mimetype": "text/x-python",
   "name": "python",
   "nbconvert_exporter": "python",
   "pygments_lexer": "ipython3",
   "version": "3.11.5"
  }
 },
 "nbformat": 4,
 "nbformat_minor": 5
}
