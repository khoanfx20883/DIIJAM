{
 "cells": [
  {
   "cell_type": "code",
   "execution_count": null,
   "id": "3fe6d3f4",
   "metadata": {},
   "outputs": [],
   "source": [
    "import pandas as pd\n",
    "\n",
    "# Đọc dữ liệu từ file Parquet\n",
    "track_credit_df = pd.read_parquet(\"data/track_credit_df.par\")\n",
    "tps_df = pd.read_parquet(\"data/tps.par\")\n",
    "\n",
    "# Hiển thị thông tin cơ bản của dataframe\n",
    "track_credit_df\n",
    "tps_df"
   ]
  },
  {
   "cell_type": "code",
   "execution_count": null,
   "id": "2265f784",
   "metadata": {},
   "outputs": [],
   "source": [
    "from sqlalchemy import create_engine\n",
    "from sqlalchemy.exc import SQLAlchemyError\n",
    "\n",
    "# Thông tin kết nối MySQL\n",
    "user = \"root\"\n",
    "password = \"khoa_501\"\n",
    "host = \"localhost\"\n",
    "database = \"diijam_parquet\"\n",
    "\n",
    "# Tạo engine\n",
    "engine = create_engine(f\"mysql+mysqlconnector://{user}:{password}@{host}/{database}\")\n",
    "\n",
    "try:\n",
    "    # Tối ưu kích thước cột\n",
    "    tps_df[\"listen_count\"] = tps_df[\"listen_count\"].astype(\"int16\")\n",
    "    # Chuyển object thành datetime\n",
    "    tps_df[\"date\"] = pd.to_datetime(tps_df[\"date\"], errors=\"coerce\") \n",
    "    # Thay thế giá trị NULL\n",
    "    tps_df = tps_df.fillna({\"track_id\": 0, \"user_id\": 0, \"listen_count\": 0})\n",
    "    \n",
    "    # Ghi dữ liệu vào MySQL theo từng batch nhỏ\n",
    "    tps_df.to_sql(\n",
    "        name=\"tps\",\n",
    "        con=engine,\n",
    "        if_exists=\"replace\",\n",
    "        index=False,\n",
    "        chunksize=10000  # Ghi từng batch 10.000 dòng\n",
    "    )\n",
    "    print(\"Dữ liệu đã được lưu vào MySQL.\")\n",
    "except SQLAlchemyError as e:\n",
    "    print(f\"Lỗi khi ghi dữ liệu vào MySQL: {e}\")\n",
    "finally:\n",
    "    engine.dispose()import pandas as pd"
   ]
  },
  {
   "cell_type": "code",
   "execution_count": null,
   "id": "91710711",
   "metadata": {},
   "outputs": [],
   "source": [
    "from sqlalchemy.sql import func, select, text\n",
    "\n",
    "# Thống kê: Đếm số lượng bản ghi\n",
    "count_query = session.query(func.count()).select_from(TrackCredit).scalar()\n",
    "print(f\"Tổng số bản ghi: {count_query}\")\n",
    "\n",
    "# Tìm giá trị lớn nhất và nhỏ nhất cho một cột (ví dụ cột 'age')\n",
    "max_query = session.query(func.max(TPS.listen_count)).scalar()\n",
    "min_query = session.query(func.min(TPS.listen_count)).scalar()\n",
    "print(f\"Giá trị lớn nhất: {max_query}, Giá trị nhỏ nhất: {min_query}\")"
   ]
  }
 ],
 "metadata": {
  "kernelspec": {
   "display_name": "Python 3 (ipykernel)",
   "language": "python",
   "name": "python3"
  },
  "language_info": {
   "codemirror_mode": {
    "name": "ipython",
    "version": 3
   },
   "file_extension": ".py",
   "mimetype": "text/x-python",
   "name": "python",
   "nbconvert_exporter": "python",
   "pygments_lexer": "ipython3",
   "version": "3.11.5"
  }
 },
 "nbformat": 4,
 "nbformat_minor": 5
}
