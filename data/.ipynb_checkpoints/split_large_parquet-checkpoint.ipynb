{
 "cells": [
  {
   "cell_type": "code",
   "execution_count": 3,
   "id": "68a74202",
   "metadata": {},
   "outputs": [
    {
     "name": "stdout",
     "output_type": "stream",
     "text": [
      "File đã được chia nhỏ thành 2 phần!\n"
     ]
    }
   ],
   "source": [
    "import pandas as pd\n",
    "import numpy as np\n",
    "\n",
    "# Đọc file gốc\n",
    "df = pd.read_parquet(\"tps.parquet\")\n",
    "\n",
    "# Lưu lại với nén Snappy hoặc Gzip để giảm kích thước\n",
    "df.to_parquet(\"track_credit_compressed.parquet\", compression=\"gzip\")\n",
    "\n",
    "# Chia nhỏ file gốc\n",
    "chunk_size = len(df) // 2  # Chia làm đôi\n",
    "df1 = df.iloc[:chunk_size]\n",
    "df2 = df.iloc[chunk_size:]\n",
    "\n",
    "# Lưu lại từng phần\n",
    "df1.to_parquet(\"tps_part1.parquet\", compression=\"snappy\")\n",
    "df2.to_parquet(\"tps_part2.parquet\", compression=\"snappy\")\n",
    "\n",
    "print(\"File đã được chia nhỏ thành 2 phần!\")\n"
   ]
  },
  {
   "cell_type": "code",
   "execution_count": null,
   "id": "dd7526a0",
   "metadata": {},
   "outputs": [],
   "source": []
  }
 ],
 "metadata": {
  "kernelspec": {
   "display_name": "Python 3 (ipykernel)",
   "language": "python",
   "name": "python3"
  },
  "language_info": {
   "codemirror_mode": {
    "name": "ipython",
    "version": 3
   },
   "file_extension": ".py",
   "mimetype": "text/x-python",
   "name": "python",
   "nbconvert_exporter": "python",
   "pygments_lexer": "ipython3",
   "version": "3.11.5"
  }
 },
 "nbformat": 4,
 "nbformat_minor": 5
}
